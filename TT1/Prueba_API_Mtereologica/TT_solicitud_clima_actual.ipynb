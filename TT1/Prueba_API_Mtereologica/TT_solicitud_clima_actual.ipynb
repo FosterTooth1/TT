{
  "nbformat": 4,
  "nbformat_minor": 0,
  "metadata": {
    "colab": {
      "provenance": []
    },
    "kernelspec": {
      "name": "python3",
      "display_name": "Python 3"
    },
    "language_info": {
      "name": "python"
    }
  },
  "cells": [
    {
      "cell_type": "markdown",
      "source": [
        "#**Solicitud con API de Weather Underground**"
      ],
      "metadata": {
        "id": "RaSkGaC5sp0C"
      }
    },
    {
      "cell_type": "code",
      "source": [
        "import requests\n",
        "import json\n",
        "\n",
        "# Parametros para hacer la solicitud\n",
        "url = \"https://api.weather.com/v2/pws/observations/current\"\n",
        "params = {\n",
        "    \"stationId\": \"IMOSCO2\", # Codigo de la estacion (Se obtiene de la pagina: https://www.wunderground.com/wundermap)\n",
        "    \"format\": \"json\",\n",
        "    \"units\": \"m\",\n",
        "    \"apiKey\": \"f1da997ebcc14fd79a997ebcc12fd7f2\" # SE VENCE EL 4 DE SEPTIEMBRE\n",
        "}"
      ],
      "metadata": {
        "id": "7VoSGxQoj4bi"
      },
      "execution_count": null,
      "outputs": []
    },
    {
      "cell_type": "code",
      "execution_count": null,
      "metadata": {
        "colab": {
          "base_uri": "https://localhost:8080/"
        },
        "id": "Z5tNr46AjtIa",
        "outputId": "a116a3df-5a4e-4fd1-e07c-5dd82f8144d8"
      },
      "outputs": [
        {
          "output_type": "stream",
          "name": "stdout",
          "text": [
            "Estación ID: IMOSCO2\n",
            "Localidad: Khamovniki\n",
            "\n",
            "Fecha y hora local: 2025-05-23 08:01:30\n",
            "Temperatura: 21 °C\n",
            "Punto de rocío: 10 °C\n",
            "Humedad: 48 %\n",
            "Dirección del viento: 340\n",
            "Velocidad del viento: 0 km/h\n"
          ]
        }
      ],
      "source": [
        "# Verificar el estado de la respuesta\n",
        "response = requests.get(url, params=params)\n",
        "if response.status_code == 200:\n",
        "    data = response.json()\n",
        "    observation = data[\"observations\"][0] # Datos de clima\n",
        "\n",
        "    # Informacion importante\n",
        "    print(\"Estación ID:\", observation[\"stationID\"])\n",
        "    print(\"Localidad:\", observation[\"neighborhood\"])\n",
        "    print(\"\\nFecha y hora local:\", observation[\"obsTimeLocal\"])\n",
        "    print(\"Temperatura:\", observation[\"metric\"][\"temp\"], \"°C\")\n",
        "    print(\"Punto de rocío:\", observation[\"metric\"][\"dewpt\"], \"°C\")\n",
        "    print(\"Humedad:\", observation[\"humidity\"], \"%\")\n",
        "    print(\"Dirección del viento:\", observation[\"winddir\"])\n",
        "    print(\"Velocidad del viento:\", observation[\"metric\"][\"windSpeed\"], \"km/h\")\n",
        "else:\n",
        "    print(\"Error al obtener datos:\", response.status_code, response.text)"
      ]
    },
    {
      "cell_type": "code",
      "source": [
        "print(json.dumps(data, indent=4)) # Formato crudo de hacer la solicir"
      ],
      "metadata": {
        "colab": {
          "base_uri": "https://localhost:8080/"
        },
        "id": "mk9QcitUlOO0",
        "outputId": "a753ab35-a5e2-496c-bed3-d51353e002e9",
        "collapsed": true
      },
      "execution_count": null,
      "outputs": [
        {
          "output_type": "stream",
          "name": "stdout",
          "text": [
            "{\n",
            "    \"observations\": [\n",
            "        {\n",
            "            \"stationID\": \"IMOSCO2\",\n",
            "            \"obsTimeUtc\": \"2025-05-23T05:01:30Z\",\n",
            "            \"obsTimeLocal\": \"2025-05-23 08:01:30\",\n",
            "            \"neighborhood\": \"Khamovniki\",\n",
            "            \"softwareType\": \"EasyWeatherV1.1.4\",\n",
            "            \"country\": \"RU\",\n",
            "            \"solarRadiation\": 132.1,\n",
            "            \"lon\": 37.571598,\n",
            "            \"realtimeFrequency\": null,\n",
            "            \"epoch\": 1747976490,\n",
            "            \"lat\": 55.729721,\n",
            "            \"uv\": 2.0,\n",
            "            \"winddir\": 340,\n",
            "            \"humidity\": 48,\n",
            "            \"qcStatus\": 1,\n",
            "            \"metric\": {\n",
            "                \"temp\": 21,\n",
            "                \"heatIndex\": 21,\n",
            "                \"dewpt\": 10,\n",
            "                \"windChill\": 21,\n",
            "                \"windSpeed\": 0,\n",
            "                \"windGust\": 0,\n",
            "                \"pressure\": 994.92,\n",
            "                \"precipRate\": 0.0,\n",
            "                \"precipTotal\": 0.0,\n",
            "                \"elev\": 140\n",
            "            }\n",
            "        }\n",
            "    ]\n",
            "}\n"
          ]
        }
      ]
    },
    {
      "cell_type": "markdown",
      "source": [
        "**#########################################################################################################**"
      ],
      "metadata": {
        "id": "lmbTXGw22VEs"
      }
    },
    {
      "cell_type": "markdown",
      "source": [
        "#**Solicitud con WeatherAPI**"
      ],
      "metadata": {
        "id": "sBRqsY8e1BNB"
      }
    },
    {
      "cell_type": "code",
      "source": [
        "import requests\n",
        "import json\n",
        "\n",
        "api_key = \"7f25124e580c4de6a2e00312251205\"\n",
        "location = \"19.176663, -100.166665\" # Valle de Bravo\n",
        "url = f\"https://api.weatherapi.com/v1/current.json?key={api_key}&q={location}&aqi=no\"\n",
        "\n",
        "response = requests.get(url)\n",
        "data = response.json()"
      ],
      "metadata": {
        "id": "rMgtTHhR0K3g"
      },
      "execution_count": null,
      "outputs": []
    },
    {
      "cell_type": "code",
      "source": [
        "print(json.dumps(data, indent=4)) # Formato crudo de hacer la solicir"
      ],
      "metadata": {
        "colab": {
          "base_uri": "https://localhost:8080/"
        },
        "id": "sRobujRN2rh8",
        "outputId": "b56610de-ea97-41ed-e31d-8479a8188d94"
      },
      "execution_count": null,
      "outputs": [
        {
          "output_type": "stream",
          "name": "stdout",
          "text": [
            "{\n",
            "    \"location\": {\n",
            "        \"name\": \"El Cerrillo (San Jose El Cerrillo)\",\n",
            "        \"region\": \"M\\u00e9xico\",\n",
            "        \"country\": \"Mexico\",\n",
            "        \"lat\": 19.178,\n",
            "        \"lon\": -100.169,\n",
            "        \"tz_id\": \"America/Mexico_City\",\n",
            "        \"localtime_epoch\": 1747903222,\n",
            "        \"localtime\": \"2025-05-22 02:40\"\n",
            "    },\n",
            "    \"current\": {\n",
            "        \"last_updated_epoch\": 1747902600,\n",
            "        \"last_updated\": \"2025-05-22 02:30\",\n",
            "        \"temp_c\": 17.6,\n",
            "        \"temp_f\": 63.7,\n",
            "        \"is_day\": 0,\n",
            "        \"condition\": {\n",
            "            \"text\": \"Partly Cloudy\",\n",
            "            \"icon\": \"//cdn.weatherapi.com/weather/64x64/night/116.png\",\n",
            "            \"code\": 1003\n",
            "        },\n",
            "        \"wind_mph\": 2.2,\n",
            "        \"wind_kph\": 3.6,\n",
            "        \"wind_degree\": 51,\n",
            "        \"wind_dir\": \"NE\",\n",
            "        \"pressure_mb\": 1016.0,\n",
            "        \"pressure_in\": 30.0,\n",
            "        \"precip_mm\": 0.0,\n",
            "        \"precip_in\": 0.0,\n",
            "        \"humidity\": 75,\n",
            "        \"cloud\": 46,\n",
            "        \"feelslike_c\": 17.6,\n",
            "        \"feelslike_f\": 63.7,\n",
            "        \"windchill_c\": 17.6,\n",
            "        \"windchill_f\": 63.7,\n",
            "        \"heatindex_c\": 17.7,\n",
            "        \"heatindex_f\": 63.8,\n",
            "        \"dewpoint_c\": 12.9,\n",
            "        \"dewpoint_f\": 55.1,\n",
            "        \"vis_km\": 10.0,\n",
            "        \"vis_miles\": 6.0,\n",
            "        \"uv\": 0.0,\n",
            "        \"gust_mph\": 2.3,\n",
            "        \"gust_kph\": 3.7\n",
            "    }\n",
            "}\n"
          ]
        }
      ]
    },
    {
      "cell_type": "code",
      "source": [
        "# Extraer los datos necesarios\n",
        "location_name = data['location']['name']\n",
        "hora = data['location']['localtime']\n",
        "\n",
        "temperatura = data['current']['temp_c']\n",
        "punto_rocio = data['current']['dewpoint_c']\n",
        "humedad = data['current']['humidity']\n",
        "direccion_viento = data['current']['wind_dir']\n",
        "velocidad_viento = data['current']['wind_kph']\n",
        "presion = data['current']['pressure_mb']\n",
        "\n",
        "# Mostrar resultados\n",
        "print(f\"Coordenadas: 19.176663, -100.166665\")\n",
        "print(f\"Localidad: {location_name}\")\n",
        "print(\"\\nFecha y hora local:\", hora)\n",
        "print(\"Temperatura:\", temperatura, \"°C\")\n",
        "print(\"Punto de rocío:\", punto_rocio, \"°C\")\n",
        "print(\"Humedad:\", humedad, \"%\")\n",
        "print(\"Dirección del viento:\", direccion_viento)\n",
        "print(\"Velocidad del viento:\", velocidad_viento, \"km/h\")"
      ],
      "metadata": {
        "colab": {
          "base_uri": "https://localhost:8080/"
        },
        "id": "Yq7Fitxc0g3L",
        "outputId": "2247d560-e3a0-431d-e7af-ce894afb1136"
      },
      "execution_count": null,
      "outputs": [
        {
          "output_type": "stream",
          "name": "stdout",
          "text": [
            "Coordenadas: 19.176663, -100.166665\n",
            "Localidad: El Cerrillo (San Jose El Cerrillo)\n",
            "\n",
            "Fecha y hora local: 2025-05-22 22:58\n",
            "Temperatura: 16.5 °C\n",
            "Punto de rocío: 15.1 °C\n",
            "Humedad: 95 %\n",
            "Dirección del viento: SSE\n",
            "Velocidad del viento: 3.6 km/h\n"
          ]
        }
      ]
    }
  ]
}